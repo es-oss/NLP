{
 "cells": [
  {
   "cell_type": "code",
   "execution_count": 1,
   "metadata": {},
   "outputs": [
    {
     "data": {
      "text/plain": [
       "[Synset('plan.n.01'),\n",
       " Synset('program.n.02'),\n",
       " Synset('broadcast.n.02'),\n",
       " Synset('platform.n.02'),\n",
       " Synset('program.n.05'),\n",
       " Synset('course_of_study.n.01'),\n",
       " Synset('program.n.07'),\n",
       " Synset('program.n.08'),\n",
       " Synset('program.v.01'),\n",
       " Synset('program.v.02')]"
      ]
     },
     "execution_count": 1,
     "metadata": {},
     "output_type": "execute_result"
    }
   ],
   "source": [
    "# nltk.download('wordnet')\n",
    "\n",
    "from nltk.corpus import wordnet\n",
    "syns = wordnet.synsets(\"program\")\n",
    "syns\n"
   ]
  },
  {
   "cell_type": "code",
   "execution_count": 2,
   "metadata": {},
   "outputs": [
    {
     "data": {
      "text/plain": [
       "Synset('plan.n.01')"
      ]
     },
     "execution_count": 2,
     "metadata": {},
     "output_type": "execute_result"
    }
   ],
   "source": [
    "syns[0]"
   ]
  },
  {
   "cell_type": "code",
   "execution_count": 3,
   "metadata": {},
   "outputs": [
    {
     "data": {
      "text/plain": [
       "'plan.n.01'"
      ]
     },
     "execution_count": 3,
     "metadata": {},
     "output_type": "execute_result"
    }
   ],
   "source": [
    "syns[0].name()"
   ]
  },
  {
   "cell_type": "code",
   "execution_count": 4,
   "metadata": {},
   "outputs": [
    {
     "data": {
      "text/plain": [
       "'plan'"
      ]
     },
     "execution_count": 4,
     "metadata": {},
     "output_type": "execute_result"
    }
   ],
   "source": [
    "syns[0].lemmas()[0].name()"
   ]
  },
  {
   "cell_type": "code",
   "execution_count": 5,
   "metadata": {},
   "outputs": [
    {
     "name": "stdout",
     "output_type": "stream",
     "text": [
      "a series of steps to be carried out or goals to be accomplished\n"
     ]
    }
   ],
   "source": [
    "print(syns[0].definition())"
   ]
  },
  {
   "cell_type": "code",
   "execution_count": 6,
   "metadata": {},
   "outputs": [
    {
     "name": "stdout",
     "output_type": "stream",
     "text": [
      "['they drew up a six-step plan', 'they discussed plans for a new bond issue']\n"
     ]
    }
   ],
   "source": [
    "print(syns[0].examples())"
   ]
  },
  {
   "cell_type": "code",
   "execution_count": null,
   "metadata": {},
   "outputs": [],
   "source": []
  },
  {
   "cell_type": "code",
   "execution_count": 7,
   "metadata": {},
   "outputs": [
    {
     "data": {
      "text/plain": [
       "[Synset('dog.n.01'),\n",
       " Synset('frump.n.01'),\n",
       " Synset('dog.n.03'),\n",
       " Synset('cad.n.01'),\n",
       " Synset('frank.n.02'),\n",
       " Synset('pawl.n.01'),\n",
       " Synset('andiron.n.01'),\n",
       " Synset('chase.v.01')]"
      ]
     },
     "execution_count": 7,
     "metadata": {},
     "output_type": "execute_result"
    }
   ],
   "source": [
    "from nltk.corpus import wordnet as wn\n",
    "wn.synsets('dog')\n"
   ]
  },
  {
   "cell_type": "code",
   "execution_count": 13,
   "metadata": {},
   "outputs": [
    {
     "name": "stdout",
     "output_type": "stream",
     "text": [
      "Synset('dog.n.01')\n",
      "a member of the genus Canis (probably descended from the common wolf) that has been domesticated by man since prehistoric times; occurs in many breeds\n",
      "------------------------------\n",
      "Synset('frump.n.01')\n",
      "a dull unattractive unpleasant girl or woman\n",
      "------------------------------\n",
      "Synset('dog.n.03')\n",
      "informal term for a man\n",
      "------------------------------\n",
      "Synset('cad.n.01')\n",
      "someone who is morally reprehensible\n",
      "------------------------------\n",
      "Synset('frank.n.02')\n",
      "a smooth-textured sausage of minced beef or pork usually smoked; often served on a bread roll\n",
      "------------------------------\n",
      "Synset('pawl.n.01')\n",
      "a hinged catch that fits into a notch of a ratchet to move a wheel forward or prevent it from moving backward\n",
      "------------------------------\n",
      "Synset('andiron.n.01')\n",
      "metal supports for logs in a fireplace\n",
      "------------------------------\n",
      "Synset('chase.v.01')\n",
      "go after with the intent to catch\n",
      "------------------------------\n"
     ]
    }
   ],
   "source": [
    "for i in range(len(wn.synsets('dog'))) : \n",
    "    print(wn.synsets('dog')[i])\n",
    "    print(wn.synsets('dog')[i].definition())\n",
    "    print('------------------------------')"
   ]
  },
  {
   "cell_type": "code",
   "execution_count": null,
   "metadata": {},
   "outputs": [],
   "source": []
  },
  {
   "cell_type": "code",
   "execution_count": 14,
   "metadata": {},
   "outputs": [
    {
     "data": {
      "text/plain": [
       "[Synset('school.n.01'),\n",
       " Synset('school.n.02'),\n",
       " Synset('school.n.03'),\n",
       " Synset('school.n.04'),\n",
       " Synset('school.n.05'),\n",
       " Synset('school.n.06'),\n",
       " Synset('school.n.07'),\n",
       " Synset('school.v.01'),\n",
       " Synset('educate.v.03'),\n",
       " Synset('school.v.03')]"
      ]
     },
     "execution_count": 14,
     "metadata": {},
     "output_type": "execute_result"
    }
   ],
   "source": [
    "wn.synsets('school')"
   ]
  },
  {
   "cell_type": "code",
   "execution_count": 15,
   "metadata": {},
   "outputs": [
    {
     "data": {
      "text/plain": [
       "[Synset('like.n.01'),\n",
       " Synset('like.n.02'),\n",
       " Synset('wish.v.02'),\n",
       " Synset('like.v.02'),\n",
       " Synset('like.v.03'),\n",
       " Synset('like.v.04'),\n",
       " Synset('like.v.05'),\n",
       " Synset('like.a.01'),\n",
       " Synset('like.a.02'),\n",
       " Synset('alike.a.01'),\n",
       " Synset('comparable.s.02')]"
      ]
     },
     "execution_count": 15,
     "metadata": {},
     "output_type": "execute_result"
    }
   ],
   "source": [
    "wn.synsets('like')"
   ]
  },
  {
   "cell_type": "code",
   "execution_count": 16,
   "metadata": {},
   "outputs": [
    {
     "data": {
      "text/plain": [
       "'metal supports for logs in a fireplace'"
      ]
     },
     "execution_count": 16,
     "metadata": {},
     "output_type": "execute_result"
    }
   ],
   "source": [
    "wn.synset('andiron.n.01').definition()"
   ]
  },
  {
   "cell_type": "code",
   "execution_count": 19,
   "metadata": {
    "scrolled": true
   },
   "outputs": [
    {
     "name": "stdout",
     "output_type": "stream",
     "text": [
      "definition : a room or building equipped with one or more toilets\n",
      "-----------------\n",
      "examples : []\n",
      "=========================================\n",
      "definition : youngest son of Henry II; King of England from 1199 to 1216; succeeded to the throne on the death of his brother Richard I; lost his French possessions; in 1215 John was compelled by the barons to sign the Magna Carta (1167-1216)\n",
      "-----------------\n",
      "examples : []\n",
      "=========================================\n",
      "definition : (New Testament) disciple of Jesus; traditionally said to be the author of the 4th Gospel and three epistles and the book of Revelation\n",
      "-----------------\n",
      "examples : []\n",
      "=========================================\n",
      "definition : a prostitute's customer\n",
      "-----------------\n",
      "examples : []\n",
      "=========================================\n",
      "definition : the last of the four Gospels in the New Testament\n",
      "-----------------\n",
      "examples : []\n",
      "=========================================\n"
     ]
    }
   ],
   "source": [
    "# word = 'cat'\n",
    "# word = 'egypt'\n",
    "word = 'john'\n",
    "# word = 'hitler'\n",
    "# word = 'earth'\n",
    "\n",
    "for i in wn.synsets(word) : \n",
    "    print(f'definition : {i.definition()}')\n",
    "    print('-----------------')\n",
    "    print(f'examples : {i.examples()}')\n",
    "    print('=========================================')"
   ]
  },
  {
   "cell_type": "code",
   "execution_count": null,
   "metadata": {},
   "outputs": [],
   "source": []
  },
  {
   "cell_type": "code",
   "execution_count": 21,
   "metadata": {},
   "outputs": [
    {
     "name": "stdout",
     "output_type": "stream",
     "text": [
      "{'salutary', 'honest', 'full', 'undecomposed', 'skillful', 'soundly', 'in_force', 'ripe', 'honorable', 'skilful', 'commodity', 'sound', 'respectable', 'in_effect', 'goodness', 'right', 'serious', 'upright', 'dear', 'thoroughly', 'dependable', 'safe', 'effective', 'well', 'expert', 'unspoilt', 'secure', 'unspoiled', 'estimable', 'adept', 'just', 'beneficial', 'trade_good', 'practiced', 'good', 'proficient', 'near'}\n",
      "------------------------------------\n",
      "{'bad', 'ill', 'badness', 'evilness', 'evil'}\n"
     ]
    }
   ],
   "source": [
    "synonyms = []\n",
    "antonyms = []\n",
    "\n",
    "for syn in wordnet.synsets(\"good\"):\n",
    "    for l in syn.lemmas():\n",
    "        synonyms.append(l.name())\n",
    "        if l.antonyms():\n",
    "            antonyms.append(l.antonyms()[0].name())\n",
    "\n",
    "print(set(synonyms))\n",
    "print('------------------------------------')\n",
    "print(set(antonyms))"
   ]
  },
  {
   "cell_type": "code",
   "execution_count": null,
   "metadata": {},
   "outputs": [],
   "source": []
  },
  {
   "cell_type": "code",
   "execution_count": 22,
   "metadata": {},
   "outputs": [
    {
     "name": "stdout",
     "output_type": "stream",
     "text": [
      "word : I\n",
      "\n",
      "synonyms : {'ace', 'iodin', 'iodine', 'I', 'i', 'one', 'unity', '1', 'single', 'ane', 'atomic_number_53'}\n",
      "===========================================\n",
      "word : need\n",
      "\n",
      "synonyms : {'necessitate', 'want', 'demand', 'require', 'involve', 'pauperism', 'motive', 'indigence', 'need', 'ask', 'postulate', 'pauperization', 'penury', 'take', 'motivation', 'call_for'}\n",
      "===========================================\n",
      "word : to\n",
      "===========================================\n",
      "word : go\n",
      "\n",
      "synonyms : {'get', \"cash_in_one's_chips\", 'croak', 'survive', 'function', 'pass', 'whirl', 'go_away', 'run_short', 'spell', 'go', 'hold_up', 'crack', 'die', 'exit', 'snuff_it', 'start', 'go_bad', 'turn', 'run', 'work', 'break', 'Adam', 'XTC', 'travel', 'depart', 'sound', 'conk', 'plump', 'give-up_the_ghost', 'fit', 'ecstasy', 'give_out', 'last', 'proceed', 'move', 'rifle', 'perish', 'extend', 'run_low', 'blend_in', 'lead', 'become', 'cristal', 'hug_drug', 'choke', 'tour', 'X', 'go_game', 'live', 'endure', 'decease', 'expire', 'fail', 'conk_out', 'kick_the_bucket', 'get_going', 'drop_dead', 'hold_out', 'locomote', 'give_way', 'break_down', 'live_on', 'offer', 'pass_away', 'operate', 'belong', 'disco_biscuit', 'buy_the_farm', 'pop_off', 'fling', 'blend'}\n",
      "\n",
      "antonyms : {'malfunction', 'stop', 'no-go', 'come', 'stay_in_place', 'be_born'}\n",
      "\n",
      "===========================================\n",
      "word : right\n",
      "\n",
      "synonyms : {'rightfield', 'in_good_order', 'correctly', 'right_field', 'properly', 'decently', 'the_right_way', 'mighty', 'veracious', 'ripe', 'flop', 'compensate', 'right_on', 'redress', 'decent', 'right-hand', 'right', 'justly', 'mightily', 'rectify', 'powerful', 'aright', 'correct', 'rightfulness', 'right_wing', 'good', 'right_hand', 'proper'}\n",
      "===========================================\n",
      "word : now\n",
      "\n",
      "synonyms : {'at_present', 'nowadays', 'straight_off', 'forthwith', 'straightaway', 'instantly', 'immediately', 'right_away', 'at_once', 'today', 'directly', 'now', 'like_a_shot'}\n",
      "===========================================\n",
      "word : to\n",
      "===========================================\n",
      "word : my\n",
      "===========================================\n",
      "word : friend\n",
      "\n",
      "synonyms : {'admirer', 'champion', 'supporter', 'Quaker', 'protagonist', 'friend', 'Friend', 'ally', 'acquaintance', 'booster'}\n",
      "===========================================\n",
      "word : Hasan\n",
      "===========================================\n"
     ]
    }
   ],
   "source": [
    "from nltk.tokenize import word_tokenize\n",
    "\n",
    "\n",
    "text = 'I need to go right now to my friend Hasan'\n",
    "\n",
    "for word in word_tokenize(text) : \n",
    "    synonyms = []\n",
    "    antonyms = []\n",
    "    \n",
    "\n",
    "    for syn in wordnet.synsets(word):\n",
    "        for l in syn.lemmas():\n",
    "            synonyms.append(l.name())\n",
    "            if l.antonyms():\n",
    "                antonyms.append(l.antonyms()[0].name())\n",
    "\n",
    "    print(f'word : {word}')\n",
    "    if len(synonyms) >1 :print(f'\\nsynonyms : {set(synonyms)}')\n",
    "    if l.antonyms(): print(f'\\nantonyms : {set(antonyms)}\\n')\n",
    "    print('===========================================')\n",
    "    "
   ]
  },
  {
   "cell_type": "code",
   "execution_count": 30,
   "metadata": {},
   "outputs": [
    {
     "name": "stdout",
     "output_type": "stream",
     "text": [
      "Syn (lion.n.01) and (place.n.06) with similarity 0.09090909090909091\n"
     ]
    }
   ],
   "source": [
    "# word1 = 'green'\n",
    "# word2 = 'blue'\n",
    "\n",
    "# word1 = 'moon'\n",
    "# word2 = 'sun'\n",
    "\n",
    "# word1 = 'water'\n",
    "# word2 = 'air'\n",
    "\n",
    "# word1 = 'france'\n",
    "# word2 = 'paris'\n",
    "\n",
    "word1 = 'lion'\n",
    "word2 = 'shoes'\n",
    "\n",
    "\n",
    "w1 = wordnet.synset(wordnet.synsets(word1)[0].name())\n",
    "w2 = wordnet.synset(wordnet.synsets(word2)[0].name())\n",
    "print(f'Syn ({wordnet.synsets(word1)[0].name()}) and ({wordnet.synsets(word2)[0].name()}) with similarity {w1.wup_similarity(w2)}')"
   ]
  },
  {
   "cell_type": "code",
   "execution_count": 31,
   "metadata": {},
   "outputs": [
    {
     "name": "stdout",
     "output_type": "stream",
     "text": [
      "Syn (iodine.n.01) and (iodine.n.01) with similarity 1.0\n",
      "----------------------------------------\n",
      "Syn (iodine.n.01) and (travel.v.01) with similarity None\n",
      "----------------------------------------\n",
      "Syn (iodine.n.01) and (school.n.01) with similarity 0.46153846153846156\n",
      "----------------------------------------\n",
      "Syn (iodine.n.01) and (day.n.01) with similarity 0.4\n",
      "----------------------------------------\n",
      "Syn (iodine.n.01) and (talk.n.01) with similarity 0.3333333333333333\n",
      "----------------------------------------\n",
      "Syn (iodine.n.01) and (teacher.n.01) with similarity 0.2857142857142857\n",
      "----------------------------------------\n",
      "Syn (travel.v.01) and (iodine.n.01) with similarity 0.25\n",
      "----------------------------------------\n",
      "Syn (travel.v.01) and (travel.v.01) with similarity 1.0\n",
      "----------------------------------------\n",
      "Syn (travel.v.01) and (school.n.01) with similarity 0.18181818181818182\n",
      "----------------------------------------\n",
      "Syn (travel.v.01) and (day.n.01) with similarity 0.25\n",
      "----------------------------------------\n",
      "Syn (travel.v.01) and (talk.n.01) with similarity 0.2\n",
      "----------------------------------------\n",
      "Syn (travel.v.01) and (teacher.n.01) with similarity 0.16666666666666666\n",
      "----------------------------------------\n",
      "Syn (school.n.01) and (iodine.n.01) with similarity 0.46153846153846156\n",
      "----------------------------------------\n",
      "Syn (school.n.01) and (travel.v.01) with similarity None\n",
      "----------------------------------------\n",
      "Syn (school.n.01) and (school.n.01) with similarity 1.0\n",
      "----------------------------------------\n",
      "Syn (school.n.01) and (day.n.01) with similarity 0.3076923076923077\n",
      "----------------------------------------\n",
      "Syn (school.n.01) and (talk.n.01) with similarity 0.26666666666666666\n",
      "----------------------------------------\n",
      "Syn (school.n.01) and (teacher.n.01) with similarity 0.125\n",
      "----------------------------------------\n",
      "Syn (day.n.01) and (iodine.n.01) with similarity 0.4\n",
      "----------------------------------------\n",
      "Syn (day.n.01) and (travel.v.01) with similarity None\n",
      "----------------------------------------\n",
      "Syn (day.n.01) and (school.n.01) with similarity 0.3076923076923077\n",
      "----------------------------------------\n",
      "Syn (day.n.01) and (day.n.01) with similarity 1.0\n",
      "----------------------------------------\n",
      "Syn (day.n.01) and (talk.n.01) with similarity 0.3333333333333333\n",
      "----------------------------------------\n",
      "Syn (day.n.01) and (teacher.n.01) with similarity 0.15384615384615385\n",
      "----------------------------------------\n",
      "Syn (talk.n.01) and (iodine.n.01) with similarity 0.3333333333333333\n",
      "----------------------------------------\n",
      "Syn (talk.n.01) and (travel.v.01) with similarity None\n",
      "----------------------------------------\n",
      "Syn (talk.n.01) and (school.n.01) with similarity 0.26666666666666666\n",
      "----------------------------------------\n",
      "Syn (talk.n.01) and (day.n.01) with similarity 0.3333333333333333\n",
      "----------------------------------------\n",
      "Syn (talk.n.01) and (talk.n.01) with similarity 1.0\n",
      "----------------------------------------\n",
      "Syn (talk.n.01) and (teacher.n.01) with similarity 0.13333333333333333\n",
      "----------------------------------------\n",
      "Syn (teacher.n.01) and (iodine.n.01) with similarity 0.2857142857142857\n",
      "----------------------------------------\n",
      "Syn (teacher.n.01) and (travel.v.01) with similarity None\n",
      "----------------------------------------\n",
      "Syn (teacher.n.01) and (school.n.01) with similarity 0.125\n",
      "----------------------------------------\n",
      "Syn (teacher.n.01) and (day.n.01) with similarity 0.15384615384615385\n",
      "----------------------------------------\n",
      "Syn (teacher.n.01) and (talk.n.01) with similarity 0.13333333333333333\n",
      "----------------------------------------\n",
      "Syn (teacher.n.01) and (teacher.n.01) with similarity 1.0\n",
      "----------------------------------------\n"
     ]
    }
   ],
   "source": [
    "text = 'I went to the school that day to talk to the teacher'\n",
    "\n",
    "for word1 in word_tokenize(text) : \n",
    "    for word2 in word_tokenize(text) :\n",
    "        if len(wordnet.synsets(word1))>0 and len(wordnet.synsets(word2))>0  : \n",
    "            w1 = wordnet.synset(wordnet.synsets(word1)[0].name())\n",
    "            w2 = wordnet.synset(wordnet.synsets(word2)[0].name())\n",
    "            print(f'Syn ({wordnet.synsets(word1)[0].name()}) and ({wordnet.synsets(word2)[0].name()}) with similarity {w1.wup_similarity(w2)}')\n",
    "            print('----------------------------------------')"
   ]
  },
  {
   "cell_type": "code",
   "execution_count": null,
   "metadata": {},
   "outputs": [],
   "source": []
  },
  {
   "cell_type": "code",
   "execution_count": null,
   "metadata": {},
   "outputs": [],
   "source": []
  }
 ],
 "metadata": {
  "kernelspec": {
   "display_name": "Python 3",
   "language": "python",
   "name": "python3"
  },
  "language_info": {
   "codemirror_mode": {
    "name": "ipython",
    "version": 3
   },
   "file_extension": ".py",
   "mimetype": "text/x-python",
   "name": "python",
   "nbconvert_exporter": "python",
   "pygments_lexer": "ipython3",
   "version": "3.7.6"
  }
 },
 "nbformat": 4,
 "nbformat_minor": 4
}
