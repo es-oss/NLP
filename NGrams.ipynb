{
 "cells": [
  {
   "cell_type": "code",
   "execution_count": 1,
   "metadata": {},
   "outputs": [
    {
     "name": "stdout",
     "output_type": "stream",
     "text": [
      "('m', 'o')\n",
      "('o', 's')\n",
      "('s', 'e')\n",
      "('e', 's')\n",
      "('s', ' ')\n",
      "(' ', 's')\n",
      "('s', 'u')\n",
      "('u', 'p')\n",
      "('p', 'p')\n",
      "('p', 'o')\n",
      "('o', 's')\n",
      "('s', 'e')\n",
      "('e', 's')\n",
      "('s', ' ')\n",
      "(' ', 'h')\n",
      "('h', 'i')\n",
      "('i', 's')\n",
      "('s', ' ')\n",
      "(' ', 't')\n",
      "('t', 'o')\n",
      "('o', 'e')\n",
      "('e', 's')\n",
      "('s', 'e')\n",
      "('e', 's')\n",
      "('s', ' ')\n",
      "(' ', 'a')\n",
      "('a', 'r')\n",
      "('r', 'e')\n",
      "('e', ' ')\n",
      "(' ', 'r')\n",
      "('r', 'o')\n",
      "('o', 's')\n",
      "('s', 'e')\n",
      "('e', 's')\n",
      "('s', ' ')\n",
      "(' ', 'b')\n",
      "('b', 'u')\n",
      "('u', 't')\n",
      "('t', ' ')\n",
      "(' ', 'm')\n",
      "('m', 'o')\n",
      "('o', 's')\n",
      "('s', 'e')\n",
      "('e', 's')\n",
      "('s', ' ')\n",
      "(' ', 's')\n",
      "('s', 'u')\n",
      "('u', 'p')\n",
      "('p', 'p')\n",
      "('p', 'o')\n",
      "('o', 's')\n",
      "('s', 'e')\n",
      "('e', 's')\n",
      "('s', ' ')\n",
      "(' ', 'e')\n",
      "('e', 'r')\n",
      "('r', 'r')\n",
      "('r', 'o')\n",
      "('o', 'n')\n",
      "('n', 'e')\n",
      "('e', 'o')\n",
      "('o', 'u')\n",
      "('u', 's')\n",
      "('s', 'l')\n",
      "('l', 'y')\n",
      "========================\n",
      "('m', 'o')\n",
      "('o', 's')\n",
      "('s', 'e')\n",
      "('e', 's')\n",
      "('s', ' ')\n",
      "(' ', 's')\n",
      "('s', 'u')\n",
      "('u', 'p')\n",
      "('p', 'p')\n",
      "('p', 'o')\n",
      "('o', 's')\n",
      "('s', 'e')\n",
      "('e', 's')\n",
      "('s', ' ')\n",
      "(' ', 'h')\n",
      "('h', 'i')\n",
      "('i', 's')\n",
      "('s', ' ')\n",
      "(' ', 't')\n",
      "('t', 'o')\n",
      "('o', 'e')\n",
      "('e', 's')\n",
      "('s', 'e')\n",
      "('e', 's')\n",
      "('s', ' ')\n",
      "(' ', 'a')\n",
      "('a', 'r')\n",
      "('r', 'e')\n",
      "('e', ' ')\n",
      "(' ', 'r')\n",
      "('r', 'o')\n",
      "('o', 's')\n",
      "('s', 'e')\n",
      "('e', 's')\n",
      "('s', ' ')\n",
      "(' ', 'b')\n",
      "('b', 'u')\n",
      "('u', 't')\n",
      "('t', ' ')\n",
      "(' ', 'm')\n",
      "('m', 'o')\n",
      "('o', 's')\n",
      "('s', 'e')\n",
      "('e', 's')\n",
      "('s', ' ')\n",
      "(' ', 's')\n",
      "('s', 'u')\n",
      "('u', 'p')\n",
      "('p', 'p')\n",
      "('p', 'o')\n",
      "('o', 's')\n",
      "('s', 'e')\n",
      "('e', 's')\n",
      "('s', ' ')\n",
      "(' ', 'e')\n",
      "('e', 'r')\n",
      "('r', 'r')\n",
      "('r', 'o')\n",
      "('o', 'n')\n",
      "('n', 'e')\n",
      "('e', 'o')\n",
      "('o', 'u')\n",
      "('u', 's')\n",
      "('s', 'l')\n",
      "('l', 'y')\n"
     ]
    }
   ],
   "source": [
    "import nltk as nl\n",
    "from nltk.util import ngrams\n",
    "\n",
    "string = \"moses supposes his toeses are roses but moses supposes erroneously\"\n",
    "bigrams1 = nl.bigrams(string)\n",
    "bigrams2 = ngrams(string,2)\n",
    "for i in bigrams1: \n",
    "    print(i)\n",
    "print('========================')\n",
    "for i in bigrams2: \n",
    "    print(i)\n",
    "        "
   ]
  },
  {
   "cell_type": "code",
   "execution_count": 2,
   "metadata": {},
   "outputs": [
    {
     "name": "stdout",
     "output_type": "stream",
     "text": [
      "('moses', 'supposes')\n",
      "('supposes', 'his')\n",
      "('his', 'toeses')\n",
      "('toeses', 'are')\n",
      "('are', 'roses')\n",
      "('roses', 'but')\n",
      "('but', 'moses')\n",
      "('moses', 'supposes')\n",
      "('supposes', 'erroneously')\n",
      "========================\n",
      "('moses', 'supposes')\n",
      "('supposes', 'his')\n",
      "('his', 'toeses')\n",
      "('toeses', 'are')\n",
      "('are', 'roses')\n",
      "('roses', 'but')\n",
      "('but', 'moses')\n",
      "('moses', 'supposes')\n",
      "('supposes', 'erroneously')\n"
     ]
    }
   ],
   "source": [
    "bigrams1 = nl.bigrams(string.split())\n",
    "bigrams2 = ngrams(string.split(),2)\n",
    "for i in bigrams1: \n",
    "    print(i)\n",
    "print('========================')\n",
    "for i in bigrams2: \n",
    "    print(i)\n",
    "        "
   ]
  },
  {
   "cell_type": "code",
   "execution_count": 3,
   "metadata": {},
   "outputs": [
    {
     "name": "stdout",
     "output_type": "stream",
     "text": [
      "('moses', 'supposes', 'his')\n",
      "('supposes', 'his', 'toeses')\n",
      "('his', 'toeses', 'are')\n",
      "('toeses', 'are', 'roses')\n",
      "('are', 'roses', 'but')\n",
      "('roses', 'but', 'moses')\n",
      "('but', 'moses', 'supposes')\n",
      "('moses', 'supposes', 'erroneously')\n",
      "========================\n",
      "('moses', 'supposes', 'his')\n",
      "('supposes', 'his', 'toeses')\n",
      "('his', 'toeses', 'are')\n",
      "('toeses', 'are', 'roses')\n",
      "('are', 'roses', 'but')\n",
      "('roses', 'but', 'moses')\n",
      "('but', 'moses', 'supposes')\n",
      "('moses', 'supposes', 'erroneously')\n"
     ]
    }
   ],
   "source": [
    "trigrams1 = nl.trigrams(string.split())\n",
    "trigrams2 = ngrams(string.split(),3)\n",
    "for i in trigrams1: \n",
    "    print(i)\n",
    "print('========================')\n",
    "for i in trigrams2: \n",
    "    print(i)"
   ]
  },
  {
   "cell_type": "code",
   "execution_count": 4,
   "metadata": {},
   "outputs": [
    {
     "name": "stdout",
     "output_type": "stream",
     "text": [
      "('moses', 'supposes', 'his', 'toeses')\n",
      "('supposes', 'his', 'toeses', 'are')\n",
      "('his', 'toeses', 'are', 'roses')\n",
      "('toeses', 'are', 'roses', 'but')\n",
      "('are', 'roses', 'but', 'moses')\n",
      "('roses', 'but', 'moses', 'supposes')\n",
      "('but', 'moses', 'supposes', 'erroneously')\n"
     ]
    }
   ],
   "source": [
    "fourgrams = ngrams(string.split(),4)\n",
    "for i in fourgrams: \n",
    "    print(i)"
   ]
  },
  {
   "cell_type": "code",
   "execution_count": 5,
   "metadata": {},
   "outputs": [
    {
     "name": "stdout",
     "output_type": "stream",
     "text": [
      "('moses', 'supposes', 'his', 'toeses', 'are', 'roses', 'but', 'moses', 'supposes', 'erroneously')\n"
     ]
    }
   ],
   "source": [
    "tengrams = ngrams(string.split(),10)\n",
    "for i in tengrams: \n",
    "    print(i)"
   ]
  },
  {
   "cell_type": "code",
   "execution_count": 6,
   "metadata": {},
   "outputs": [],
   "source": [
    "tengrams = ngrams(string.split(),12)\n",
    "for i in tengrams: \n",
    "    print(i)"
   ]
  },
  {
   "cell_type": "code",
   "execution_count": null,
   "metadata": {},
   "outputs": [],
   "source": []
  },
  {
   "cell_type": "code",
   "execution_count": null,
   "metadata": {},
   "outputs": [],
   "source": []
  },
  {
   "cell_type": "code",
   "execution_count": 7,
   "metadata": {},
   "outputs": [
    {
     "data": {
      "text/plain": [
       "[('m', 'o', 's'),\n",
       " ('o', 's', 'e'),\n",
       " ('s', 'e', 's'),\n",
       " ('e', 's', ' '),\n",
       " ('s', ' ', 's'),\n",
       " (' ', 's', 'u'),\n",
       " ('s', 'u', 'p'),\n",
       " ('u', 'p', 'p'),\n",
       " ('p', 'p', 'o'),\n",
       " ('p', 'o', 's'),\n",
       " ('o', 's', 'e'),\n",
       " ('s', 'e', 's'),\n",
       " ('e', 's', ' '),\n",
       " ('s', ' ', 'h'),\n",
       " (' ', 'h', 'i'),\n",
       " ('h', 'i', 's'),\n",
       " ('i', 's', ' '),\n",
       " ('s', ' ', 't'),\n",
       " (' ', 't', 'o'),\n",
       " ('t', 'o', 'e'),\n",
       " ('o', 'e', 's'),\n",
       " ('e', 's', 'e'),\n",
       " ('s', 'e', 's'),\n",
       " ('e', 's', ' '),\n",
       " ('s', ' ', 'a'),\n",
       " (' ', 'a', 'r'),\n",
       " ('a', 'r', 'e'),\n",
       " ('r', 'e', ' '),\n",
       " ('e', ' ', 'r'),\n",
       " (' ', 'r', 'o'),\n",
       " ('r', 'o', 's'),\n",
       " ('o', 's', 'e'),\n",
       " ('s', 'e', 's'),\n",
       " ('e', 's', ' '),\n",
       " ('s', ' ', 'b'),\n",
       " (' ', 'b', 'u'),\n",
       " ('b', 'u', 't'),\n",
       " ('u', 't', ' '),\n",
       " ('t', ' ', 'm'),\n",
       " (' ', 'm', 'o'),\n",
       " ('m', 'o', 's'),\n",
       " ('o', 's', 'e'),\n",
       " ('s', 'e', 's'),\n",
       " ('e', 's', ' '),\n",
       " ('s', ' ', 's'),\n",
       " (' ', 's', 'u'),\n",
       " ('s', 'u', 'p'),\n",
       " ('u', 'p', 'p'),\n",
       " ('p', 'p', 'o'),\n",
       " ('p', 'o', 's'),\n",
       " ('o', 's', 'e'),\n",
       " ('s', 'e', 's'),\n",
       " ('e', 's', ' '),\n",
       " ('s', ' ', 'e'),\n",
       " (' ', 'e', 'r'),\n",
       " ('e', 'r', 'r'),\n",
       " ('r', 'r', 'o'),\n",
       " ('r', 'o', 'n'),\n",
       " ('o', 'n', 'e'),\n",
       " ('n', 'e', 'o'),\n",
       " ('e', 'o', 'u'),\n",
       " ('o', 'u', 's'),\n",
       " ('u', 's', 'l'),\n",
       " ('s', 'l', 'y')]"
      ]
     },
     "execution_count": 7,
     "metadata": {},
     "output_type": "execute_result"
    }
   ],
   "source": [
    "from itertools import  islice, tee\n",
    "N = 3\n",
    "trigrams = zip(*(islice(seq, index, None) for index, seq in enumerate(tee(string, N))))\n",
    "list(trigrams)"
   ]
  },
  {
   "cell_type": "code",
   "execution_count": 8,
   "metadata": {},
   "outputs": [
    {
     "data": {
      "text/plain": [
       "[('moses', 'supposes', 'his'),\n",
       " ('supposes', 'his', 'toeses'),\n",
       " ('his', 'toeses', 'are'),\n",
       " ('toeses', 'are', 'roses'),\n",
       " ('are', 'roses', 'but'),\n",
       " ('roses', 'but', 'moses'),\n",
       " ('but', 'moses', 'supposes'),\n",
       " ('moses', 'supposes', 'erroneously')]"
      ]
     },
     "execution_count": 8,
     "metadata": {},
     "output_type": "execute_result"
    }
   ],
   "source": [
    "trigrams = zip(*(islice(seq, index, None) for index, seq in enumerate(tee(string.split(), N))))\n",
    "list(trigrams)"
   ]
  },
  {
   "cell_type": "code",
   "execution_count": 9,
   "metadata": {},
   "outputs": [
    {
     "data": {
      "text/plain": [
       "[['moses', 'supposes', 'his', 'toeses'],\n",
       " ['supposes', 'his', 'toeses', 'are'],\n",
       " ['his', 'toeses', 'are', 'roses'],\n",
       " ['toeses', 'are', 'roses', 'but'],\n",
       " ['are', 'roses', 'but', 'moses'],\n",
       " ['roses', 'but', 'moses', 'supposes'],\n",
       " ['but', 'moses', 'supposes', 'erroneously']]"
      ]
     },
     "execution_count": 9,
     "metadata": {},
     "output_type": "execute_result"
    }
   ],
   "source": [
    "N = 4\n",
    "grams = [string.split()[i:i+N] for i in range(len(string.split())-N+1)]\n",
    "grams"
   ]
  },
  {
   "cell_type": "code",
   "execution_count": null,
   "metadata": {},
   "outputs": [],
   "source": []
  }
 ],
 "metadata": {
  "kernelspec": {
   "display_name": "Python 3",
   "language": "python",
   "name": "python3"
  },
  "language_info": {
   "codemirror_mode": {
    "name": "ipython",
    "version": 3
   },
   "file_extension": ".py",
   "mimetype": "text/x-python",
   "name": "python",
   "nbconvert_exporter": "python",
   "pygments_lexer": "ipython3",
   "version": "3.7.6"
  }
 },
 "nbformat": 4,
 "nbformat_minor": 4
}
